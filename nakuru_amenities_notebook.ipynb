{
 "cells": [
  {
   "cell_type": "code",
   "execution_count": 1,
   "id": "ea182394-d5eb-4149-b794-5a95b4c34a19",
   "metadata": {
    "tags": []
   },
   "outputs": [
    {
     "name": "stdout",
     "output_type": "stream",
     "text": [
      "Warning: 'u' and 'v' columns not found in edges GeoDataFrame. Roads will not be displayed.\n"
     ]
    },
    {
     "data": {
      "text/plain": [
       "True"
      ]
     },
     "execution_count": 1,
     "metadata": {},
     "output_type": "execute_result"
    }
   ],
   "source": [
    "import folium\n",
    "import webbrowser\n",
    "from folium.plugins import MarkerCluster\n",
    "import osmnx as ox\n",
    "import geopandas as gpd\n",
    "\n",
    "# Specify the location you want to focus on\n",
    "place_name = \"Nakuru, Kenya\"\n",
    "\n",
    "# Fetch OSM data for Nakuru\n",
    "graph = ox.graph_from_place(place_name, network_type=\"drive\")\n",
    "nodes, edges = ox.graph_to_gdfs(graph)\n",
    "amenities = ox.features_from_place(place_name, tags={\"amenity\": True})\n",
    "\n",
    "# Convert amenities to GeoDataFrame\n",
    "amenity_points = gpd.GeoDataFrame(amenities)\n",
    "\n",
    "# Create a map centered on Nakuru, Kenya\n",
    "nakuru_map = folium.Map(\n",
    "    location=amenity_points.unary_union.centroid.coords[0][::-1],\n",
    "    zoom_start=13,\n",
    "    tiles=\"OpenStreetMap\",\n",
    ")  # Use OSM tiles\n",
    "\n",
    "# Cluster markers for better visualization\n",
    "marker_cluster = MarkerCluster().add_to(nakuru_map)\n",
    "\n",
    "# Add amenity markers to the map with different colors\n",
    "for idx, row in amenity_points.iterrows():\n",
    "    # Check if geometry is a point or polygon\n",
    "    if row.geometry.geom_type == \"Point\":\n",
    "        location = [row.geometry.y, row.geometry.x]\n",
    "    else:\n",
    "        location = row.geometry.centroid.coords[0][::-1]  # Get centroid for polygons\n",
    "\n",
    "    folium.Marker(\n",
    "        location=location,\n",
    "        popup=row[\"amenity\"],\n",
    "        icon=folium.Icon(color=\"blue\", icon=\"info-sign\"),  # Customize icons\n",
    "    ).add_to(marker_cluster)\n",
    "\n",
    "# Check if 'u' and 'v' columns are present in edges\n",
    "if 'u' in edges.columns and 'v' in edges.columns:\n",
    "    # Add roads from OpenStreetMap data if columns exist\n",
    "    folium.GeoJson(\n",
    "        edges[[\"u\", \"v\", \"geometry\"]].to_json(),\n",
    "        name=\"Roads\",\n",
    "        style_function=lambda x: {\"color\": \"gray\", \"weight\": 2},\n",
    "    ).add_to(nakuru_map)\n",
    "else:\n",
    "    print(\"Warning: 'u' and 'v' columns not found in edges GeoDataFrame. Roads will not be displayed.\")\n",
    "\n",
    "# Save the map and open in browser\n",
    "filename = \"nakuru_amenities_map_osm.html\"\n",
    "nakuru_map.save(filename)\n",
    "webbrowser.open(filename)  \n"
   ]
  },
  {
   "cell_type": "markdown",
   "id": "ad57c69a",
   "metadata": {},
   "source": [
    "[Click here to view the interactive map](nakuru_amenities_map_osm.html)\n"
   ]
  },
  {
   "cell_type": "markdown",
   "id": "9630a7a9",
   "metadata": {},
   "source": []
  }
 ],
 "metadata": {
  "kernelspec": {
   "display_name": "Python 3 (ipykernel)",
   "language": "python",
   "name": "python3"
  },
  "language_info": {
   "codemirror_mode": {
    "name": "ipython",
    "version": 3
   },
   "file_extension": ".py",
   "mimetype": "text/x-python",
   "name": "python",
   "nbconvert_exporter": "python",
   "pygments_lexer": "ipython3",
   "version": "3.11.7"
  }
 },
 "nbformat": 4,
 "nbformat_minor": 5
}
